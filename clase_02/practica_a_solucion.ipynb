{
 "cells": [
  {
   "cell_type": "code",
   "execution_count": 0,
   "metadata": {
    "application/vnd.databricks.v1+cell": {
     "cellMetadata": {
      "byteLimit": 2048000,
      "rowLimit": 10000
     },
     "inputWidgets": {},
     "nuid": "7c247288-afba-4681-ab3c-b9aac3d64c04",
     "showTitle": false,
     "tableResultSettingsMap": {},
     "title": ""
    }
   },
   "outputs": [],
   "source": [
    "# Importar las bibliotecas necesarias\n",
    "from pyspark.sql import SparkSession\n",
    "from pyspark.sql.functions import col, lit, avg, count, max, min, sum, when, concat_ws\n",
    "\n",
    "# Crear una instancia de SparkSession\n",
    "spark = SparkSession.builder \\\n",
    "    .appName(\"DataFrame Manipulations\") \\\n",
    "    .getOrCreate()\n",
    "\n",
    "# Crear un DataFrame con los datos proporcionados\n",
    "data = [(\"Alice\", 25, \"New York\"),\n",
    "        (\"Bob\", 30, \"Los Angeles\"),\n",
    "        (\"Charlie\", 22, \"Chicago\")]\n",
    "\n",
    "schema = [\"Nombre\", \"Edad\", \"Ciudad\"]\n",
    "df = spark.createDataFrame(data, schema)"
   ]
  },
  {
   "cell_type": "code",
   "execution_count": 0,
   "metadata": {
    "application/vnd.databricks.v1+cell": {
     "cellMetadata": {
      "byteLimit": 2048000,
      "rowLimit": 10000
     },
     "inputWidgets": {},
     "nuid": "3ad40204-2775-4776-a978-440109cf44e3",
     "showTitle": false,
     "tableResultSettingsMap": {},
     "title": ""
    }
   },
   "outputs": [
    {
     "name": "stdout",
     "output_type": "stream",
     "text": [
      "+-------+----+-----------+\n",
      "| Nombre|Edad|     Ciudad|\n",
      "+-------+----+-----------+\n",
      "|  Alice|  25|   New York|\n",
      "|    Bob|  30|Los Angeles|\n",
      "|Charlie|  22|    Chicago|\n",
      "+-------+----+-----------+\n",
      "\n"
     ]
    }
   ],
   "source": [
    "# 1. Mostrar el DataFrame inicial\n",
    "df.show()"
   ]
  },
  {
   "cell_type": "code",
   "execution_count": 0,
   "metadata": {
    "application/vnd.databricks.v1+cell": {
     "cellMetadata": {
      "byteLimit": 2048000,
      "rowLimit": 10000
     },
     "inputWidgets": {},
     "nuid": "6d7d55d0-9d43-4cb5-93a9-1c5801ccaa58",
     "showTitle": false,
     "tableResultSettingsMap": {},
     "title": ""
    }
   },
   "outputs": [
    {
     "name": "stdout",
     "output_type": "stream",
     "text": [
      "+-------+\n",
      "| Nombre|\n",
      "+-------+\n",
      "|  Alice|\n",
      "|    Bob|\n",
      "|Charlie|\n",
      "+-------+\n",
      "\n"
     ]
    }
   ],
   "source": [
    "# 2. Mostrar solo los nombres\n",
    "df.select(\"Nombre\").show()"
   ]
  },
  {
   "cell_type": "code",
   "execution_count": 0,
   "metadata": {
    "application/vnd.databricks.v1+cell": {
     "cellMetadata": {
      "byteLimit": 2048000,
      "rowLimit": 10000
     },
     "inputWidgets": {},
     "nuid": "0de72ccb-aed0-47a0-9d98-ee1a053cc796",
     "showTitle": false,
     "tableResultSettingsMap": {},
     "title": ""
    }
   },
   "outputs": [
    {
     "name": "stdout",
     "output_type": "stream",
     "text": [
      "+------+----+-----------+\n",
      "|Nombre|Edad|     Ciudad|\n",
      "+------+----+-----------+\n",
      "| Alice|  25|   New York|\n",
      "|   Bob|  30|Los Angeles|\n",
      "+------+----+-----------+\n",
      "\n"
     ]
    }
   ],
   "source": [
    "# 3. Filtrar personas cuya edad sea mayor o igual a 25\n",
    "df.filter(col(\"Edad\") >= 25).show()"
   ]
  },
  {
   "cell_type": "code",
   "execution_count": 0,
   "metadata": {
    "application/vnd.databricks.v1+cell": {
     "cellMetadata": {
      "byteLimit": 2048000,
      "rowLimit": 10000
     },
     "inputWidgets": {},
     "nuid": "89ca1c62-4444-41a1-997d-450332588f00",
     "showTitle": false,
     "tableResultSettingsMap": {},
     "title": ""
    }
   },
   "outputs": [
    {
     "name": "stdout",
     "output_type": "stream",
     "text": [
      "+-------+----+-----------+----+\n",
      "| Nombre|Edad|     Ciudad|Pais|\n",
      "+-------+----+-----------+----+\n",
      "|  Alice|  25|   New York| USA|\n",
      "|    Bob|  30|Los Angeles| USA|\n",
      "|Charlie|  22|    Chicago| USA|\n",
      "+-------+----+-----------+----+\n",
      "\n"
     ]
    }
   ],
   "source": [
    "# 4. Agregar una nueva columna \"Pais\" con valor constante \"USA\"\n",
    "df = df.withColumn(\"Pais\", lit(\"USA\"))\n",
    "df.show()"
   ]
  },
  {
   "cell_type": "code",
   "execution_count": 0,
   "metadata": {
    "application/vnd.databricks.v1+cell": {
     "cellMetadata": {
      "byteLimit": 2048000,
      "rowLimit": 10000
     },
     "inputWidgets": {},
     "nuid": "8aa38ff4-9c3a-4844-b4b6-97ba0c33a406",
     "showTitle": false,
     "tableResultSettingsMap": {},
     "title": ""
    }
   },
   "outputs": [
    {
     "name": "stdout",
     "output_type": "stream",
     "text": [
      "+------------------+\n",
      "|      PromedioEdad|\n",
      "+------------------+\n",
      "|25.666666666666668|\n",
      "+------------------+\n",
      "\n"
     ]
    }
   ],
   "source": [
    "# 5. Calcular el promedio de edad\n",
    "df.select(avg(\"Edad\").alias(\"PromedioEdad\")).show()"
   ]
  },
  {
   "cell_type": "code",
   "execution_count": 0,
   "metadata": {
    "application/vnd.databricks.v1+cell": {
     "cellMetadata": {
      "byteLimit": 2048000,
      "rowLimit": 10000
     },
     "inputWidgets": {},
     "nuid": "5b8170c1-8355-4383-b4eb-84bc6f2b9be5",
     "showTitle": false,
     "tableResultSettingsMap": {},
     "title": ""
    }
   },
   "outputs": [
    {
     "name": "stdout",
     "output_type": "stream",
     "text": [
      "+-------+----+-----------+----+\n",
      "| Nombre|Edad|     Ciudad|Pais|\n",
      "+-------+----+-----------+----+\n",
      "|    Bob|  30|Los Angeles| USA|\n",
      "|  Alice|  25|   New York| USA|\n",
      "|Charlie|  22|    Chicago| USA|\n",
      "+-------+----+-----------+----+\n",
      "\n"
     ]
    }
   ],
   "source": [
    "# 6. Ordenar por edad en orden descendente\n",
    "df.orderBy(col(\"Edad\").desc()).show()"
   ]
  },
  {
   "cell_type": "code",
   "execution_count": 0,
   "metadata": {
    "application/vnd.databricks.v1+cell": {
     "cellMetadata": {
      "byteLimit": 2048000,
      "rowLimit": 10000
     },
     "inputWidgets": {},
     "nuid": "029cf8a5-80bc-409b-aea9-a76cbfe92b64",
     "showTitle": false,
     "tableResultSettingsMap": {},
     "title": ""
    }
   },
   "outputs": [
    {
     "name": "stdout",
     "output_type": "stream",
     "text": [
      "+-----------+--------+\n",
      "|     Ciudad|Cantidad|\n",
      "+-----------+--------+\n",
      "|   New York|       1|\n",
      "|Los Angeles|       1|\n",
      "|    Chicago|       1|\n",
      "+-----------+--------+\n",
      "\n"
     ]
    }
   ],
   "source": [
    "# 7. Agrupar por ciudad y contar personas\n",
    "df.groupBy(\"Ciudad\").agg(count(\"*\").alias(\"Cantidad\")).show()"
   ]
  },
  {
   "cell_type": "code",
   "execution_count": 0,
   "metadata": {
    "application/vnd.databricks.v1+cell": {
     "cellMetadata": {
      "byteLimit": 2048000,
      "rowLimit": 10000
     },
     "inputWidgets": {},
     "nuid": "1410fb5a-e47b-485b-8a1d-18545ac29b22",
     "showTitle": false,
     "tableResultSettingsMap": {},
     "title": ""
    }
   },
   "outputs": [
    {
     "name": "stdout",
     "output_type": "stream",
     "text": [
      "+--------------+----+-----------+----+\n",
      "|NombreCompleto|Edad|     Ciudad|Pais|\n",
      "+--------------+----+-----------+----+\n",
      "|         Alice|  25|   New York| USA|\n",
      "|           Bob|  30|Los Angeles| USA|\n",
      "|       Charlie|  22|    Chicago| USA|\n",
      "+--------------+----+-----------+----+\n",
      "\n"
     ]
    }
   ],
   "source": [
    "# 8. Renombrar la columna \"Nombre\" a \"NombreCompleto\"\n",
    "df = df.withColumnRenamed(\"Nombre\", \"NombreCompleto\")\n",
    "df.show()"
   ]
  },
  {
   "cell_type": "code",
   "execution_count": 0,
   "metadata": {
    "application/vnd.databricks.v1+cell": {
     "cellMetadata": {
      "byteLimit": 2048000,
      "rowLimit": 10000
     },
     "inputWidgets": {},
     "nuid": "40b4e132-2e11-4137-96d7-f9f8ca99a773",
     "showTitle": false,
     "tableResultSettingsMap": {},
     "title": ""
    }
   },
   "outputs": [
    {
     "name": "stdout",
     "output_type": "stream",
     "text": [
      "+--------------+-----------+----+\n",
      "|NombreCompleto|     Ciudad|Pais|\n",
      "+--------------+-----------+----+\n",
      "|         Alice|   New York| USA|\n",
      "|           Bob|Los Angeles| USA|\n",
      "|       Charlie|    Chicago| USA|\n",
      "+--------------+-----------+----+\n",
      "\n"
     ]
    }
   ],
   "source": [
    "# 9. Eliminar la columna \"Edad\"\n",
    "df_sin_edad = df.drop(\"Edad\")\n",
    "df_sin_edad.show()"
   ]
  },
  {
   "cell_type": "code",
   "execution_count": 0,
   "metadata": {
    "application/vnd.databricks.v1+cell": {
     "cellMetadata": {
      "byteLimit": 2048000,
      "rowLimit": 10000
     },
     "inputWidgets": {},
     "nuid": "59d22db7-ba98-489f-8560-d1837f2d1403",
     "showTitle": false,
     "tableResultSettingsMap": {},
     "title": ""
    }
   },
   "outputs": [
    {
     "name": "stdout",
     "output_type": "stream",
     "text": [
      "+--------------+----+-----------+----+\n",
      "|NombreCompleto|Edad|     Ciudad|Pais|\n",
      "+--------------+----+-----------+----+\n",
      "|         Alice|  25|   New York| USA|\n",
      "|           Bob|  30|Los Angeles| USA|\n",
      "|       Charlie|  22|    Chicago| USA|\n",
      "+--------------+----+-----------+----+\n",
      "\n"
     ]
    }
   ],
   "source": [
    "# 10. Realizar una consulta SQL para seleccionar personas mayores de 20 años\n",
    "df.createOrReplaceTempView(\"personas\")\n",
    "spark.sql(\"SELECT * FROM personas WHERE Edad > 20\").show()"
   ]
  },
  {
   "cell_type": "code",
   "execution_count": 0,
   "metadata": {
    "application/vnd.databricks.v1+cell": {
     "cellMetadata": {
      "byteLimit": 2048000,
      "rowLimit": 10000
     },
     "inputWidgets": {},
     "nuid": "d5dce771-3aba-4af8-9cfd-b261f3ddcba9",
     "showTitle": false,
     "tableResultSettingsMap": {},
     "title": ""
    }
   },
   "outputs": [
    {
     "name": "stdout",
     "output_type": "stream",
     "text": [
      "+-------------+\n",
      "|SumaTotalEdad|\n",
      "+-------------+\n",
      "|           77|\n",
      "+-------------+\n",
      "\n"
     ]
    }
   ],
   "source": [
    "# 11. Calcular la suma total de las edades\n",
    "df.select(sum(\"Edad\").alias(\"SumaTotalEdad\")).show()"
   ]
  },
  {
   "cell_type": "code",
   "execution_count": 0,
   "metadata": {
    "application/vnd.databricks.v1+cell": {
     "cellMetadata": {
      "byteLimit": 2048000,
      "rowLimit": 10000
     },
     "inputWidgets": {},
     "nuid": "d5408678-1027-45f1-b678-57b79a885e44",
     "showTitle": false,
     "tableResultSettingsMap": {},
     "title": ""
    }
   },
   "outputs": [
    {
     "name": "stdout",
     "output_type": "stream",
     "text": [
      "+----------+----------+\n",
      "|EdadMinima|EdadMaxima|\n",
      "+----------+----------+\n",
      "|        22|        30|\n",
      "+----------+----------+\n",
      "\n"
     ]
    }
   ],
   "source": [
    "# 12. Calcular la edad mínima y máxima\n",
    "df.select(min(\"Edad\").alias(\"EdadMinima\"), max(\"Edad\").alias(\"EdadMaxima\")).show()"
   ]
  },
  {
   "cell_type": "code",
   "execution_count": 0,
   "metadata": {
    "application/vnd.databricks.v1+cell": {
     "cellMetadata": {
      "byteLimit": 2048000,
      "rowLimit": 10000
     },
     "inputWidgets": {},
     "nuid": "850c7c27-5a69-4f2c-98ee-4894d48c5093",
     "showTitle": false,
     "tableResultSettingsMap": {},
     "title": ""
    }
   },
   "outputs": [
    {
     "name": "stdout",
     "output_type": "stream",
     "text": [
      "+--------------+----+-------+----+\n",
      "|NombreCompleto|Edad| Ciudad|Pais|\n",
      "+--------------+----+-------+----+\n",
      "|       Charlie|  22|Chicago| USA|\n",
      "+--------------+----+-------+----+\n",
      "\n"
     ]
    }
   ],
   "source": [
    "# 13. Filtrar personas cuya ciudad sea \"Chicago\" y edad menor de 30\n",
    "df.filter((col(\"Ciudad\") == \"Chicago\") & (col(\"Edad\") < 30)).show()"
   ]
  },
  {
   "cell_type": "code",
   "execution_count": 0,
   "metadata": {
    "application/vnd.databricks.v1+cell": {
     "cellMetadata": {
      "byteLimit": 2048000,
      "rowLimit": 10000
     },
     "inputWidgets": {},
     "nuid": "6799a689-d4bd-4e70-ae8f-8807d42c6aae",
     "showTitle": false,
     "tableResultSettingsMap": {},
     "title": ""
    }
   },
   "outputs": [
    {
     "name": "stdout",
     "output_type": "stream",
     "text": [
      "+--------------+----+-----------+----+-------------+\n",
      "|NombreCompleto|Edad|     Ciudad|Pais|EdadDuplicada|\n",
      "+--------------+----+-----------+----+-------------+\n",
      "|         Alice|  25|   New York| USA|           50|\n",
      "|           Bob|  30|Los Angeles| USA|           60|\n",
      "|       Charlie|  22|    Chicago| USA|           44|\n",
      "+--------------+----+-----------+----+-------------+\n",
      "\n"
     ]
    }
   ],
   "source": [
    "# 14. Agregar una nueva columna \"EdadDuplicada\" que sea el doble de la edad\n",
    "df = df.withColumn(\"EdadDuplicada\", col(\"Edad\") * 2)\n",
    "df.show()"
   ]
  },
  {
   "cell_type": "code",
   "execution_count": 0,
   "metadata": {
    "application/vnd.databricks.v1+cell": {
     "cellMetadata": {
      "byteLimit": 2048000,
      "rowLimit": 10000
     },
     "inputWidgets": {},
     "nuid": "41c39dcc-3391-4373-bbbe-284710edf888",
     "showTitle": false,
     "tableResultSettingsMap": {},
     "title": ""
    }
   },
   "outputs": [
    {
     "name": "stdout",
     "output_type": "stream",
     "text": [
      "+--------------+----+-----------+----+-------------+-----------+\n",
      "|NombreCompleto|Edad|     Ciudad|Pais|EdadDuplicada|EdadEnMeses|\n",
      "+--------------+----+-----------+----+-------------+-----------+\n",
      "|         Alice|  25|   New York| USA|           50|        300|\n",
      "|           Bob|  30|Los Angeles| USA|           60|        360|\n",
      "|       Charlie|  22|    Chicago| USA|           44|        264|\n",
      "+--------------+----+-----------+----+-------------+-----------+\n",
      "\n"
     ]
    }
   ],
   "source": [
    "# 15. Convertir las edades a meses\n",
    "df = df.withColumn(\"EdadEnMeses\", col(\"Edad\") * 12)\n",
    "df.show()"
   ]
  },
  {
   "cell_type": "code",
   "execution_count": 0,
   "metadata": {
    "application/vnd.databricks.v1+cell": {
     "cellMetadata": {
      "byteLimit": 2048000,
      "rowLimit": 10000
     },
     "inputWidgets": {},
     "nuid": "32ff1b5e-9461-4d8d-92c8-36f4886ba890",
     "showTitle": false,
     "tableResultSettingsMap": {},
     "title": ""
    }
   },
   "outputs": [
    {
     "name": "stdout",
     "output_type": "stream",
     "text": [
      "+-------------+\n",
      "|TotalPersonas|\n",
      "+-------------+\n",
      "|            3|\n",
      "+-------------+\n",
      "\n"
     ]
    }
   ],
   "source": [
    "# 16. Contar el número total de personas\n",
    "df.select(count(\"*\").alias(\"TotalPersonas\")).show()"
   ]
  },
  {
   "cell_type": "code",
   "execution_count": 0,
   "metadata": {
    "application/vnd.databricks.v1+cell": {
     "cellMetadata": {
      "byteLimit": 2048000,
      "rowLimit": 10000
     },
     "inputWidgets": {},
     "nuid": "e6b1f152-f343-44d7-9b2c-5fb20f098fd9",
     "showTitle": false,
     "tableResultSettingsMap": {},
     "title": ""
    }
   },
   "outputs": [
    {
     "name": "stdout",
     "output_type": "stream",
     "text": [
      "+--------------+----+-----------+----+-------------+-----------+\n",
      "|NombreCompleto|Edad|     Ciudad|Pais|EdadDuplicada|EdadEnMeses|\n",
      "+--------------+----+-----------+----+-------------+-----------+\n",
      "|           Bob|  30|Los Angeles| USA|           60|        360|\n",
      "|       Charlie|  22|    Chicago| USA|           44|        264|\n",
      "+--------------+----+-----------+----+-------------+-----------+\n",
      "\n"
     ]
    }
   ],
   "source": [
    "# 17. Filtrar personas cuya edad sea un número par\n",
    "df.filter((col(\"Edad\") % 2) == 0).show()"
   ]
  },
  {
   "cell_type": "code",
   "execution_count": 0,
   "metadata": {
    "application/vnd.databricks.v1+cell": {
     "cellMetadata": {
      "byteLimit": 2048000,
      "rowLimit": 10000
     },
     "inputWidgets": {},
     "nuid": "6126f724-a10f-4c36-ade0-6f063ac39472",
     "showTitle": false,
     "tableResultSettingsMap": {},
     "title": ""
    }
   },
   "outputs": [
    {
     "name": "stdout",
     "output_type": "stream",
     "text": [
      "+---------+-----+\n",
      "|RangoEdad|count|\n",
      "+---------+-----+\n",
      "|    21-40|    3|\n",
      "+---------+-----+\n",
      "\n"
     ]
    }
   ],
   "source": [
    "# 18. Calcular la cantidad de personas por rango de edades\n",
    "df.withColumn(\"RangoEdad\", \n",
    "              when(col(\"Edad\") <= 20, \"0-20\")\n",
    "              .when((col(\"Edad\") > 20) & (col(\"Edad\") <= 40), \"21-40\")\n",
    "              .when((col(\"Edad\") > 40) & (col(\"Edad\") <= 60), \"41-60\")\n",
    "              .otherwise(\"61+\")) \\\n",
    "  .groupBy(\"RangoEdad\").count().show()"
   ]
  },
  {
   "cell_type": "code",
   "execution_count": 0,
   "metadata": {
    "application/vnd.databricks.v1+cell": {
     "cellMetadata": {
      "byteLimit": 2048000,
      "rowLimit": 10000
     },
     "inputWidgets": {},
     "nuid": "130d6d62-c18d-4e28-8a53-289789e43461",
     "showTitle": false,
     "tableResultSettingsMap": {},
     "title": ""
    }
   },
   "outputs": [
    {
     "name": "stdout",
     "output_type": "stream",
     "text": [
      "+--------------+-----+\n",
      "|NombreCompleto|count|\n",
      "+--------------+-----+\n",
      "|         Alice|    1|\n",
      "|           Bob|    1|\n",
      "|       Charlie|    1|\n",
      "+--------------+-----+\n",
      "\n"
     ]
    }
   ],
   "source": [
    "# 19. Contar cuántas personas tienen el mismo nombre\n",
    "df.groupBy(\"NombreCompleto\").count().show()"
   ]
  },
  {
   "cell_type": "code",
   "execution_count": 0,
   "metadata": {
    "application/vnd.databricks.v1+cell": {
     "cellMetadata": {
      "byteLimit": 2048000,
      "rowLimit": 10000
     },
     "inputWidgets": {},
     "nuid": "ad989c60-9ce0-4807-a522-b5bb47846dd4",
     "showTitle": false,
     "tableResultSettingsMap": {},
     "title": ""
    }
   },
   "outputs": [
    {
     "name": "stdout",
     "output_type": "stream",
     "text": [
      "+--------------+----+-----------+----+-------------+-----------+-------------------+\n",
      "|NombreCompleto|Edad|     Ciudad|Pais|EdadDuplicada|EdadEnMeses|InformacionPersonal|\n",
      "+--------------+----+-----------+----+-------------+-----------+-------------------+\n",
      "|         Alice|  25|   New York| USA|           50|        300|    Alice, New York|\n",
      "|           Bob|  30|Los Angeles| USA|           60|        360|   Bob, Los Angeles|\n",
      "|       Charlie|  22|    Chicago| USA|           44|        264|   Charlie, Chicago|\n",
      "+--------------+----+-----------+----+-------------+-----------+-------------------+\n",
      "\n"
     ]
    }
   ],
   "source": [
    "# 20. Concatenar \"Nombre\" y \"Ciudad\" en una nueva columna \"InformacionPersonal\"\n",
    "df = df.withColumn(\"InformacionPersonal\", concat_ws(\", \", col(\"NombreCompleto\"), col(\"Ciudad\")))\n",
    "df.show()"
   ]
  },
  {
   "cell_type": "code",
   "execution_count": 0,
   "metadata": {
    "application/vnd.databricks.v1+cell": {
     "cellMetadata": {},
     "inputWidgets": {},
     "nuid": "bee18772-b767-4645-8211-7282f3edad3b",
     "showTitle": false,
     "tableResultSettingsMap": {},
     "title": ""
    }
   },
   "outputs": [],
   "source": []
  }
 ],
 "metadata": {
  "application/vnd.databricks.v1+notebook": {
   "computePreferences": null,
   "dashboards": [],
   "environmentMetadata": {
    "base_environment": "",
    "client": "1"
   },
   "language": "python",
   "notebookMetadata": {
    "pythonIndentUnit": 4
   },
   "notebookName": "practicas",
   "widgets": {}
  },
  "language_info": {
   "name": "python"
  }
 },
 "nbformat": 4,
 "nbformat_minor": 0
}
