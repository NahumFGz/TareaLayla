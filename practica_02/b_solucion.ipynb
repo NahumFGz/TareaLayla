{
 "cells": [
  {
   "cell_type": "code",
   "execution_count": 0,
   "metadata": {
    "application/vnd.databricks.v1+cell": {
     "cellMetadata": {
      "byteLimit": 2048000,
      "rowLimit": 10000
     },
     "inputWidgets": {},
     "nuid": "98a44de5-6738-4c48-ab9b-8cbf7b258c1d",
     "showTitle": false,
     "tableResultSettingsMap": {},
     "title": ""
    }
   },
   "outputs": [],
   "source": [
    "from pyspark.sql import SparkSession\n",
    "\n",
    "# Crear una sesión de Spark\n",
    "spark = SparkSession.builder \\\n",
    "    .appName(\"Spark SQL Exercises\") \\\n",
    "    .getOrCreate()\n"
   ]
  },
  {
   "cell_type": "code",
   "execution_count": 0,
   "metadata": {
    "application/vnd.databricks.v1+cell": {
     "cellMetadata": {
      "byteLimit": 2048000,
      "rowLimit": 10000
     },
     "inputWidgets": {},
     "nuid": "466ea05a-2bb8-4bf1-b5a5-fc14eb89f163",
     "showTitle": false,
     "tableResultSettingsMap": {},
     "title": ""
    }
   },
   "outputs": [],
   "source": [
    "# Datos iniciales\n",
    "data = [\n",
    "    (\"John Doe\", \"Engineering\", 80000, \"2023-01-15\"),\n",
    "    (\"Jane Smith\", \"Marketing\", 95000, \"2022-11-23\"),\n",
    "    (\"Alice Johnson\", \"Engineering\", 85000, \"2021-03-08\"),\n",
    "    (\"Bob Brown\", \"Sales\", 72000, \"2024-02-25\"),\n",
    "    (\"Charlie Davis\", \"Marketing\", 90000, \"2023-05-19\")\n",
    "]\n",
    "\n",
    "# Esquema de columnas\n",
    "columns = [\"name\", \"department\", \"salary\", \"hire_date\"]\n",
    "\n",
    "# Crear el DataFrame\n",
    "df = spark.createDataFrame(data, columns)\n",
    "\n",
    "# Registrar el DataFrame como una tabla temporal llamada \"employees\"\n",
    "df.createOrReplaceTempView(\"employees\")\n"
   ]
  },
  {
   "cell_type": "code",
   "execution_count": 0,
   "metadata": {
    "application/vnd.databricks.v1+cell": {
     "cellMetadata": {
      "byteLimit": 2048000,
      "rowLimit": 10000
     },
     "inputWidgets": {},
     "nuid": "8546828f-9777-484e-a021-1ee7ead2bd74",
     "showTitle": false,
     "tableResultSettingsMap": {},
     "title": ""
    }
   },
   "outputs": [
    {
     "output_type": "stream",
     "name": "stdout",
     "output_type": "stream",
     "text": [
      "Ejercicio 1: Consultar todos los empleados\n+-------------+-----------+------+----------+\n|         name| department|salary| hire_date|\n+-------------+-----------+------+----------+\n|     John Doe|Engineering| 80000|2023-01-15|\n|   Jane Smith|  Marketing| 95000|2022-11-23|\n|Alice Johnson|Engineering| 85000|2021-03-08|\n|    Bob Brown|      Sales| 72000|2024-02-25|\n|Charlie Davis|  Marketing| 90000|2023-05-19|\n+-------------+-----------+------+----------+\n\n"
     ]
    }
   ],
   "source": [
    "print(\"Ejercicio 1: Consultar todos los empleados\")\n",
    "spark.sql(\"SELECT * FROM employees\").show()"
   ]
  },
  {
   "cell_type": "code",
   "execution_count": 0,
   "metadata": {
    "application/vnd.databricks.v1+cell": {
     "cellMetadata": {
      "byteLimit": 2048000,
      "rowLimit": 10000
     },
     "inputWidgets": {},
     "nuid": "ba48380e-f379-4372-8a61-27368d462ef3",
     "showTitle": false,
     "tableResultSettingsMap": {},
     "title": ""
    }
   },
   "outputs": [
    {
     "output_type": "stream",
     "name": "stdout",
     "output_type": "stream",
     "text": [
      "Ejercicio 2: Empleados del departamento de Marketing\n+-------------+----------+------+----------+\n|         name|department|salary| hire_date|\n+-------------+----------+------+----------+\n|   Jane Smith| Marketing| 95000|2022-11-23|\n|Charlie Davis| Marketing| 90000|2023-05-19|\n+-------------+----------+------+----------+\n\n"
     ]
    }
   ],
   "source": [
    "print(\"Ejercicio 2: Empleados del departamento de Marketing\")\n",
    "spark.sql(\"SELECT * FROM employees WHERE department = 'Marketing'\").show()\n"
   ]
  },
  {
   "cell_type": "code",
   "execution_count": 0,
   "metadata": {
    "application/vnd.databricks.v1+cell": {
     "cellMetadata": {
      "byteLimit": 2048000,
      "rowLimit": 10000
     },
     "inputWidgets": {},
     "nuid": "3f859471-cec4-495e-a750-669ab8fe0997",
     "showTitle": false,
     "tableResultSettingsMap": {},
     "title": ""
    }
   },
   "outputs": [
    {
     "output_type": "stream",
     "name": "stdout",
     "output_type": "stream",
     "text": [
      "Ejercicio 3: Ordenar empleados por salario (descendente)\n+-------------+-----------+------+----------+\n|         name| department|salary| hire_date|\n+-------------+-----------+------+----------+\n|   Jane Smith|  Marketing| 95000|2022-11-23|\n|Charlie Davis|  Marketing| 90000|2023-05-19|\n|Alice Johnson|Engineering| 85000|2021-03-08|\n|     John Doe|Engineering| 80000|2023-01-15|\n|    Bob Brown|      Sales| 72000|2024-02-25|\n+-------------+-----------+------+----------+\n\n"
     ]
    }
   ],
   "source": [
    "print(\"Ejercicio 3: Ordenar empleados por salario (descendente)\")\n",
    "spark.sql(\"SELECT * FROM employees ORDER BY salary DESC\").show()\n"
   ]
  },
  {
   "cell_type": "code",
   "execution_count": 0,
   "metadata": {
    "application/vnd.databricks.v1+cell": {
     "cellMetadata": {
      "byteLimit": 2048000,
      "rowLimit": 10000
     },
     "inputWidgets": {},
     "nuid": "9fc5339a-641f-4575-b714-aacd7fcb4ea9",
     "showTitle": false,
     "tableResultSettingsMap": {},
     "title": ""
    }
   },
   "outputs": [
    {
     "output_type": "stream",
     "name": "stdout",
     "output_type": "stream",
     "text": [
      "Ejercicio 4: Salario promedio por departamento\n+-----------+----------+\n| department|avg_salary|\n+-----------+----------+\n|Engineering|   82500.0|\n|  Marketing|   92500.0|\n|      Sales|   72000.0|\n+-----------+----------+\n\n"
     ]
    }
   ],
   "source": [
    "print(\"Ejercicio 4: Salario promedio por departamento\")\n",
    "spark.sql(\"\"\"\n",
    "    SELECT department, AVG(salary) AS avg_salary\n",
    "    FROM employees\n",
    "    GROUP BY department\n",
    "\"\"\").show()\n"
   ]
  },
  {
   "cell_type": "code",
   "execution_count": 0,
   "metadata": {
    "application/vnd.databricks.v1+cell": {
     "cellMetadata": {
      "byteLimit": 2048000,
      "rowLimit": 10000
     },
     "inputWidgets": {},
     "nuid": "feee37b3-dfee-4a00-b9a0-d085995ffd76",
     "showTitle": false,
     "tableResultSettingsMap": {},
     "title": ""
    }
   },
   "outputs": [
    {
     "output_type": "stream",
     "name": "stdout",
     "output_type": "stream",
     "text": [
      "Ejercicio 5: Empleados contratados después del 1 de enero de 2023\n+-------------+-----------+------+----------+\n|         name| department|salary| hire_date|\n+-------------+-----------+------+----------+\n|     John Doe|Engineering| 80000|2023-01-15|\n|    Bob Brown|      Sales| 72000|2024-02-25|\n|Charlie Davis|  Marketing| 90000|2023-05-19|\n+-------------+-----------+------+----------+\n\n"
     ]
    }
   ],
   "source": [
    "print(\"Ejercicio 5: Empleados contratados después del 1 de enero de 2023\")\n",
    "spark.sql(\"\"\"\n",
    "    SELECT * \n",
    "    FROM employees \n",
    "    WHERE hire_date > '2023-01-01'\n",
    "\"\"\").show()\n"
   ]
  },
  {
   "cell_type": "code",
   "execution_count": 0,
   "metadata": {
    "application/vnd.databricks.v1+cell": {
     "cellMetadata": {},
     "inputWidgets": {},
     "nuid": "dbb59c28-96d5-45fa-a4c2-cd360116b57a",
     "showTitle": false,
     "tableResultSettingsMap": {},
     "title": ""
    }
   },
   "outputs": [],
   "source": []
  }
 ],
 "metadata": {
  "application/vnd.databricks.v1+notebook": {
   "computePreferences": null,
   "dashboards": [],
   "environmentMetadata": {
    "base_environment": "",
    "client": "1"
   },
   "language": "python",
   "notebookMetadata": {
    "pythonIndentUnit": 4
   },
   "notebookName": "practicas",
   "widgets": {}
  }
 },
 "nbformat": 4,
 "nbformat_minor": 0
}
